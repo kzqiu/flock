{
 "cells": [
  {
   "cell_type": "code",
   "execution_count": null,
   "metadata": {},
   "outputs": [],
   "source": [
    "!pip install git+https://github.com/kzqiu/flock.git#egg=flock"
   ]
  },
  {
   "cell_type": "code",
   "execution_count": null,
   "metadata": {},
   "outputs": [],
   "source": [
    "import numpy as np\n",
    "from flock import FlockEnv\n",
    "\n",
    "# Create environment with 10 agents and 5 obstacles\n",
    "env = FlockEnv(num_agents=10, num_obstacles=5)\n",
    "\n",
    "# Reset the environment\n",
    "obs = env.reset()\n",
    "\n",
    "# Take random actions\n",
    "done = False\n",
    "while not done:\n",
    "    actions = np.random.uniform(-1, 1, size=(env.num_agents, 2))\n",
    "    obs, reward, done, info = env.step(actions)\n",
    "    env.render_for_colab()"
   ]
  }
 ],
 "metadata": {
  "kernelspec": {
   "display_name": ".venv",
   "language": "python",
   "name": "python3"
  },
  "language_info": {
   "codemirror_mode": {
    "name": "ipython",
    "version": 3
   },
   "file_extension": ".py",
   "mimetype": "text/x-python",
   "name": "python",
   "nbconvert_exporter": "python",
   "pygments_lexer": "ipython3",
   "version": "3.10.12"
  }
 },
 "nbformat": 4,
 "nbformat_minor": 2
}
